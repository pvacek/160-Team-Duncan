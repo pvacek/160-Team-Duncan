{
 "cells": [
  {
   "cell_type": "markdown",
   "metadata": {},
   "source": [
    "# Developing the Algorithm\n",
    "\n",
    "This code is currently a bit sparse in its documentation, but it exists as a way to show that we can extract meaningful features in a straightforward way."
   ]
  },
  {
   "cell_type": "code",
   "execution_count": 362,
   "metadata": {
    "collapsed": true
   },
   "outputs": [],
   "source": [
    "import os\n",
    "import pandas as pd\n",
    "import numpy as np\n",
    "import re\n",
    "\n",
    "#Plotting\n",
    "%matplotlib inline\n",
    "import matplotlib\n",
    "import matplotlib.pyplot as plt\n",
    "matplotlib.rcParams['figure.figsize'] = (10, 7.0)\n",
    "pd.options.mode.chained_assignment = None"
   ]
  },
  {
   "cell_type": "code",
   "execution_count": 1,
   "metadata": {
    "collapsed": false
   },
   "outputs": [],
   "source": [
    "###DATA LOADING FUNCTIONS###\n",
    "\n",
    "def initializeShots(path=\"\",loadGitHub=True):\n",
    "    if loadGitHub==False:\n",
    "        try:\n",
    "            nba_shots=pd.read_csv(path+\"playershotsdf.csv\")\n",
    "            print(\"Loaded from directory.\")\n",
    "            return(nba_shots)\n",
    "        except:\n",
    "            print(\"File not found. Using GitHub instead\")\n",
    "            loadGitHub=True\n",
    "    if loadGitHub==True:\n",
    "        nba_shots=pd.read_csv(\"https://raw.githubusercontent.com/pvacek/160-Team-Duncan/master/playershotsdf.csv\")\n",
    "        print(\"Loaded from GitHub.\")\n",
    "        return(nba_shots)\n",
    "\n",
    "def loadGameData(file,shot_df,shot_path=\"\",loadShots=False):\n",
    "    #Set directory to where the ball motion csvs exist, load ball motion data\n",
    "    motion=pd.read_csv(file)\n",
    "    \n",
    "    #Load in the data if asked for.\n",
    "    if loadShots==True:\n",
    "        nba_shots=initializeShots(directory=path,loadGitHub=True)\n",
    "    else:\n",
    "        nba_shots=shot_df\n",
    "        \n",
    "    #Find the matching data within the NBA shot data.\n",
    "    game_id=int(re.sub(\"(^.+\\_00|\\.csv)\",\"\",file))\n",
    "    game=nba_shots[nba_shots[\"GAME_ID\"]==game_id]\n",
    "    \n",
    "    #Return the two files.\n",
    "    return(motion,game)"
   ]
  },
  {
   "cell_type": "code",
   "execution_count": 4,
   "metadata": {
    "collapsed": true
   },
   "outputs": [],
   "source": [
    "###DATA PREPROCESSING, THE NEW STUFF###\n",
    "\n",
    "def shotSearch(motion,time,epsilon):\n",
    "    motion_subset=motion[(motion[\"time_full\"]<=(time+epsilon))&(motion[\"time_full\"]>=(time-epsilon))]\n",
    "    #As it currently stands, this code will have issues if the time interval (t-epsilon,t+epsilon) is not defined\n",
    "    #Although it is quicker to search a smaller interval, you will need to do this process recursively...\n",
    "    #...or brute force it in order to avoid failure.\n",
    "    time_difference=abs(time-motion_subset.time_full.values)\n",
    "    try:\n",
    "        time_index=motion_subset.index[np.argmin(time_difference)]\n",
    "        time_error=np.min(time_difference)\n",
    "    except ValueError:\n",
    "        time_index=0\n",
    "        time_error=2*epsilon\n",
    "    return([time_index,time_error])\n",
    "\n",
    "def shotPartition(motion,game):\n",
    "    num_quarters=np.max(game.PERIOD)\n",
    "    game_time=game.MINUTES_REMAINING*60+game.SECONDS_REMAINING+(num_quarters-game.PERIOD)*720\n",
    "    motion_time=motion.time+(num_quarters-motion.qtr)*720\n",
    "    \n",
    "    game[\"time_full\"]=game_time\n",
    "    motion[\"time_full\"]=motion_time\n",
    "    \n",
    "    game_sort=game.sort_values(by=\"time_full\",ascending=False).reset_index(drop=True)\n",
    "    motion_sort=motion.sort_values(by=\"time_full\",ascending=False).reset_index(drop=True)\n",
    "    \n",
    "    #It is important to know that I currently set the epsilon for 25 seconds, you can adjust this number if necessary.\n",
    "    shot_searches=pd.DataFrame([shotSearch(motion_sort,time,25) for time in game_sort.time_full],columns=[\"time_index\",\"error\"])\n",
    "    shot_midpoints=(shot_searches.time_index.values[1:]+shot_searches.time_index.values[:-1])/2\n",
    "    partition_lengths=np.diff(np.hstack((0,np.round(shot_midpoints),len(motion))).astype(int))\n",
    "    \n",
    "    #Also, add on the error, add on the id for the motion dataset\n",
    "    game_sort[\"error\"]=shot_searches.error\n",
    "    motion_sort[\"id\"]=np.repeat(np.linspace(0,len(game)-1,len(game)),partition_lengths)\n",
    "    \n",
    "    return(motion_sort,game_sort,partition_lengths)\n",
    "\n",
    "def sidingAlgorithm(game):\n",
    "    #Find our candidate shot\n",
    "    left_shots=np.where(game.SHOT_ZONE_AREA==\"Left Side(L)\")\n",
    "    the_shot=game.iloc[np.min(left_shots),:]\n",
    "    \n",
    "    #Determine the team that took the shot\n",
    "    shot_team=the_shot.TEAM_NAME\n",
    "    \n",
    "    #Set indicators based on shot.\n",
    "    if the_shot.LOC_X>0:\n",
    "        side_indicator=np.where(game.TEAM_NAME==shot_team,1,0)\n",
    "    else:\n",
    "        side_indicator=np.where(game.TEAM_NAME==shot_team,0,1)\n",
    "        \n",
    "    #Flip indicator for 2nd half.\n",
    "    side_indicator[np.where(game.PERIOD>2)[0]]=1-side_indicator[np.where(game.PERIOD>2)[0]]\n",
    "    left_right_map=np.vectorize(lambda x: \"Left\" if x == 1 else \"Right\")\n",
    "    sides_labeled=left_right_map(side_indicator)\n",
    "    \n",
    "    #Set the sides dataframe to the shot dataframe\n",
    "    shot_df=pd.DataFrame(sides_labeled,columns=[\"SIDE\"])\n",
    "    game_with_sides=pd.concat([game,shot_df],axis=1)\n",
    "    return(game_with_sides)\n",
    "\n",
    "def NBA_to_SportVU(game):\n",
    "    #Convert NBA API coordinates to SportVU coordinates\n",
    "    Y=game.LOC_X/10+25\n",
    "    Y_star=np.array(game.SIDE==\"Left\")*(50-Y)+np.array(game.SIDE==\"Right\")*Y\n",
    "    X=game.LOC_Y/10+5\n",
    "    X_star=np.array(game.SIDE==\"Left\")*X+np.array(game.SIDE==\"Right\")*(94-X)\n",
    "    return(np.array([X_star,Y_star]).T)\n",
    "\n",
    "def mergeSportVU(motion,game):\n",
    "    #Merge our two essential dataframes on each distinct shot.\n",
    "    game_lean=game.drop([\"GRID_TYPE\",\"SHOT_ATTEMPTED_FLAG\",\"LOC_X\",\"LOC_Y\",\"MINUTES_REMAINING\",\n",
    "                         \"SECONDS_REMAINING\",\"EVENT_TYPE\",\"time_full\"],axis=1)\n",
    "    game_indexed=game_lean.reset_index().rename(columns={'index':'id'})\n",
    "    sportVU_data=motion.merge(game_indexed,how='inner',on='id')\n",
    "    return(sportVU_data)\n",
    "\n",
    "def computeBallHoopDists(game_motion,shot_XY,partitions):\n",
    "    #Compute two norms: \n",
    "    #(1) The norm of the XY coordinates to the hypothetical shot location.\n",
    "    #(2) The norm of the XY coordinates to the proper hoop.\n",
    "    game_coords=game_motion.iloc[:,4:6].values\n",
    "    shot_coords=np.repeat(shot_XY,partitions,axis=0)\n",
    "    hoop_coords=np.vstack((np.where(game_motion.SIDE=='Left',5,89),np.repeat(25,len(game_motion)))).T\n",
    "    dshot=np.linalg.norm(game_coords-shot_coords,axis=1)\n",
    "    hoop_XY=np.vstack((np.where(game_motion.SIDE=='Left',5,89),np.repeat(25,len(game_motion)))).T\n",
    "    dhoop=np.linalg.norm(game_coords-hoop_coords,axis=1)\n",
    "    distance_df=pd.DataFrame(np.vstack((dshot,dhoop)).T,columns=[\"dshot\",\"dhoop\"])\n",
    "    return(distance_df)"
   ]
  },
  {
   "cell_type": "code",
   "execution_count": null,
   "metadata": {
    "collapsed": true
   },
   "outputs": [],
   "source": [
    "def ProcessData(motion,game):\n",
    "    #STEP 0: Remove any duplicated rows from the motion data\n",
    "    motion_unique=motion[motion.duplicated()==False]\n",
    "    \n",
    "    #STEP 1: Partition the motion data into plausible sets of time where the shot could potentially occur\n",
    "    motion_sort,game_sort,partitions=shotPartition(motion_unique,game)\n",
    "    \n",
    "    #STEP 2: Use the siding algorithm to determine which side each team is shooting on\n",
    "    game_with_sides=sidingAlgorithm(game_sort)\n",
    "    \n",
    "    #STEP 3: Determine where the shot locations are from the NBA API in SportVU coordinate space\n",
    "    shot_XY=NBA_to_SportVU(game_with_sides)\n",
    "    \n",
    "    #STEP 4: Merge the two dataframes\n",
    "    game_motion=mergeSportVU(motion_sort,game_with_sides)\n",
    "    \n",
    "    #STEP 5: Create distance to shot, distance to hoop features\n",
    "    distance_df=computeBallHoopDists(game_motion,shot_XY,partitions)\n",
    "    \n",
    "    #STEP 6: Create the final dataframe\n",
    "    sportvu_df=pd.concat([game_motion,distance_df],axis=1)\n",
    "    return(sportvu_df)"
   ]
  },
  {
   "cell_type": "code",
   "execution_count": 7,
   "metadata": {
    "collapsed": false
   },
   "outputs": [],
   "source": [
    "###FINAL FUNCTION\n",
    "\n",
    "def read_sportVU(file,shot_df,shot_path=\"\",loadShots=False):\n",
    "    print(\"Reading in data...\")\n",
    "    motion,game=loadGameData(file,shot_df,shot_path,loadShots)\n",
    "    print(\"Processing data...\")\n",
    "    sportVU_data=ProcessData(motion,game)\n",
    "    return(sportVU_data)"
   ]
  },
  {
   "cell_type": "code",
   "execution_count": 456,
   "metadata": {
    "collapsed": false
   },
   "outputs": [],
   "source": [
    "###EXAMPLE:\n",
    "\n",
    "#Find where the files are\n",
    "os.chdir(\"E:/output\")\n",
    "file_names=os.listdir()\n",
    "\n",
    "#Initialize shot data\n",
    "nba_shots=initializeShots(path=\"E:/ProjectTimDuncan/\",loadGitHub=False)\n",
    "\n",
    "#Load the data.\n",
    "cha_tor=read_sportVU(file_names[0],nba_shots)"
   ]
  }
 ],
 "metadata": {
  "kernelspec": {
   "display_name": "Python 3",
   "language": "python",
   "name": "python3"
  },
  "language_info": {
   "codemirror_mode": {
    "name": "ipython",
    "version": 3
   },
   "file_extension": ".py",
   "mimetype": "text/x-python",
   "name": "python",
   "nbconvert_exporter": "python",
   "pygments_lexer": "ipython3",
   "version": "3.5.2"
  }
 },
 "nbformat": 4,
 "nbformat_minor": 0
}
