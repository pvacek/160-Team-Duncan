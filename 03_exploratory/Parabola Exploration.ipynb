{
 "cells": [
  {
   "cell_type": "code",
   "execution_count": 1,
   "metadata": {
    "collapsed": true
   },
   "outputs": [],
   "source": [
    "import os\n",
    "import pandas as pd\n",
    "import numpy as np\n",
    "import re\n",
    "from scipy.signal import argrelmin, argrelmax\n",
    "from bisect import bisect_right\n",
    "\n",
    "#Plotting\n",
    "%matplotlib inline\n",
    "import matplotlib\n",
    "import matplotlib.pyplot as plt\n",
    "matplotlib.rcParams['figure.figsize'] = (15, 10)\n",
    "import seaborn as sns\n",
    "pd.options.mode.chained_assignment = None"
   ]
  },
  {
   "cell_type": "code",
   "execution_count": 8,
   "metadata": {
    "collapsed": true
   },
   "outputs": [],
   "source": [
    "def processData(game_id):\n",
    "    os.chdir(\"C:\\Users\\ckchiruka\\Desktop\\Current Courses\\STA 160\\CSV Data\")\n",
    "    motion=pd.read_csv(\"00\"+str(game_id)+\".csv\",low_memory=False)\n",
    "    motion=motion[motion.isnull().any(axis=1)==False].reset_index(drop=True)\n",
    "    return(motion)\n",
    "\n",
    "def getPlayRanges(motion):\n",
    "    start = 0\n",
    "    end = 0\n",
    "    inplay = []\n",
    "    no_dups = motion.drop_duplicates(subset = ['quarter', 'sec_in_quarter', 'shot_clock'], keep = 'last')\n",
    "    nd_index = no_dups.index\n",
    "    for i in range(max(nd_index)):\n",
    "        if i not in nd_index:\n",
    "            start = i\n",
    "        else:\n",
    "            inplay.append(start+1)\n",
    "    \n",
    "        if i in nd_index:\n",
    "            end = i  \n",
    "        else:\n",
    "            inplay.append(end)\n",
    "\n",
    "    inplay = sorted(list(set(inplay)))\n",
    "    inplay = [i for i in inplay if i + 1 in nd_index or i - 1 in nd_index]\n",
    "\n",
    "    if len(inplay) % 2 == 1:\n",
    "        inplay.append(len(motion)-1)\n",
    "    \n",
    "    inplay = np.asarray(inplay).reshape((len(inplay)/2,2))\n",
    "\n",
    "    minima = getRelMinima(motion)\n",
    "    \n",
    "    for i in range(len(inplay)):\n",
    "        try:\n",
    "            inplay[i][0] = minima[bisect_right(minima, inplay[i][0])-1]\n",
    "        except IndexError:\n",
    "            pass\n",
    "        try: \n",
    "            inplay[i][1] = minima[bisect_right(minima, inplay[i][1])]\n",
    "        except IndexError:\n",
    "            pass\n",
    "    return(inplay)\n",
    "\n",
    "def getRelMinima(motion):\n",
    "    minima = list(argrelmin(motion['ball_z'].rolling(4, center = True).mean().as_matrix()))\n",
    "    minima = [i for i in minima[0]]\n",
    "    return minima\n",
    "\n",
    "def getRelMaxima(motion):\n",
    "    maxima = list(argrelmax(motion['ball_z'].rolling(4, center = True).mean().as_matrix()))\n",
    "    maxima = [i for i in maxima[0]]\n",
    "    return(maxima)"
   ]
  },
  {
   "cell_type": "code",
   "execution_count": 12,
   "metadata": {
    "scrolled": false
   },
   "outputs": [],
   "source": [
    "motion = processData(21500592)b  \n",
    "ranges = getPlayRanges(motion)"
   ]
  },
  {
   "cell_type": "code",
   "execution_count": null,
   "metadata": {
    "collapsed": true
   },
   "outputs": [],
   "source": []
  }
 ],
 "metadata": {
  "kernelspec": {
   "display_name": "Python 2",
   "language": "python",
   "name": "python2"
  },
  "language_info": {
   "codemirror_mode": {
    "name": "ipython",
    "version": 2
   },
   "file_extension": ".py",
   "mimetype": "text/x-python",
   "name": "python",
   "nbconvert_exporter": "python",
   "pygments_lexer": "ipython2",
   "version": "2.7.13"
  }
 },
 "nbformat": 4,
 "nbformat_minor": 2
}
