{
 "cells": [
  {
   "cell_type": "code",
   "execution_count": 4,
   "metadata": {
    "collapsed": true
   },
   "outputs": [],
   "source": [
    "import os\n",
    "import pandas as pd\n",
    "import numpy as np\n",
    "import re\n",
    "\n",
    "#Plotting\n",
    "%matplotlib inline\n",
    "import matplotlib\n",
    "import matplotlib.pyplot as plt\n",
    "matplotlib.rcParams['figure.figsize'] = (10, 7.0)\n",
    "import seaborn as sns\n",
    "pd.options.mode.chained_assignment = None\n",
    "from scipy.signal import argrelmin"
   ]
  },
  {
   "cell_type": "code",
   "execution_count": 3,
   "metadata": {
    "collapsed": true
   },
   "outputs": [],
   "source": [
    "def processData(game_id):\n",
    "    os.chdir(\"F:/CSV DATA\")\n",
    "    #Read in the data, avoid warnings\n",
    "    motion=pd.read_csv(\"00\"+str(game_id)+\".csv\",low_memory=False)\n",
    "    #Remove any rows where there are NaN values\n",
    "    motion=motion[motion.isnull().any(axis=1)==False].reset_index(drop=True)\n",
    "    #Remove \"stationary\" events, such as free throws\n",
    "    motion=motion.drop_duplicates(subset = ['quarter', 'sec_in_quarter', 'shot_clock'], keep = 'last').reset_index(drop=True)\n",
    "    return(motion)"
   ]
  },
  {
   "cell_type": "code",
   "execution_count": 5,
   "metadata": {
    "collapsed": false
   },
   "outputs": [],
   "source": [
    "motion=processData(21500592)"
   ]
  },
  {
   "cell_type": "code",
   "execution_count": 6,
   "metadata": {
    "collapsed": true
   },
   "outputs": [],
   "source": [
    "def sup(a,c):\n",
    "    try:\n",
    "        sup=a[a>=c][0]\n",
    "    except IndexError:\n",
    "        return(0)\n",
    "    return(sup)\n",
    "\n",
    "def boundSup(a,b,c):\n",
    "    vec_sup=np.array([sup(a,bvals) for bvals in b])\n",
    "    vec_bounds=abs(vec_sup-b)\n",
    "    vec_sup=np.unique(vec_sup[(vec_bounds<=c)&(vec_bounds>0)])\n",
    "    return(vec_sup)\n",
    "\n",
    "def infi(a,c):\n",
    "    try:\n",
    "        inf=a[a<=c][-1]\n",
    "    except IndexError:\n",
    "        return(0)\n",
    "    return(inf)\n",
    "\n",
    "def boundInf(a,b,c):\n",
    "    vec_inf=np.array([infi(a,bvals) for bvals in b])\n",
    "    vec_bounds=abs(vec_inf-b)\n",
    "    vec_inf=np.unique(vec_inf[(vec_bounds<=c)&(vec_bounds>0)])\n",
    "    return(vec_inf)"
   ]
  },
  {
   "cell_type": "code",
   "execution_count": 9,
   "metadata": {
    "collapsed": true
   },
   "outputs": [],
   "source": [
    "from scipy.signal import argrelmin,argrelmax"
   ]
  },
  {
   "cell_type": "code",
   "execution_count": 116,
   "metadata": {
    "collapsed": true
   },
   "outputs": [],
   "source": [
    "def findSupInts(motion):\n",
    "    z_min=argrelmin(motion.ball_z.values)[0]\n",
    "    z_min=z_min[np.in1d(z_min,np.where(motion.ball_z<10)[0])]\n",
    "    z_max=argrelmax(motion.ball_z.values)[0]\n",
    "    z_max=z_max[np.in1d(z_max,np.where(motion.ball_z>=10)[0])]\n",
    "    lower_bound=boundInf(z_min,z_max,75)\n",
    "    middle_bound=boundSup(z_max,z_min,75)\n",
    "    upper_bound=boundSup(z_min,middle_bound,75)\n",
    "    return(np.vstack((lower_bound,middle_bound,upper_bound)).T)"
   ]
  },
  {
   "cell_type": "code",
   "execution_count": 117,
   "metadata": {
    "collapsed": false
   },
   "outputs": [
    {
     "data": {
      "text/plain": [
       "array([[  272,   295,   315],\n",
       "       [  315,   325,   356],\n",
       "       [  738,   759,   783],\n",
       "       [ 1160,  1188,  1235],\n",
       "       [ 1393,  1424,  1466],\n",
       "       [ 1841,  1867,  1910],\n",
       "       [ 2249,  2278,  2317],\n",
       "       [ 2493,  2518,  2560],\n",
       "       [ 3053,  3089,  3124],\n",
       "       [ 3424,  3450,  3483],\n",
       "       [ 3682,  3692,  3729],\n",
       "       [ 3864,  3891,  3940],\n",
       "       [ 4049,  4075,  4128],\n",
       "       [ 4255,  4258,  4281],\n",
       "       [ 4768,  4793,  4832],\n",
       "       [ 5376,  5378,  5387],\n",
       "       [ 5426,  5452,  5478],\n",
       "       [ 5719,  5753,  5813],\n",
       "       [ 5825,  5854,  5888],\n",
       "       [ 6078,  6118,  6146],\n",
       "       [ 6367,  6395,  6431],\n",
       "       [ 6812,  6838,  6884],\n",
       "       [ 7086,  7098,  7132],\n",
       "       [ 7207,  7232,  7275],\n",
       "       [ 7549,  7566,  7576],\n",
       "       [ 7594,  7603,  7632],\n",
       "       [ 8133,  8174,  8219],\n",
       "       [ 8222,  8238,  8271],\n",
       "       [ 8298,  8303,  8336],\n",
       "       [ 8532,  8539,  8573],\n",
       "       [ 8874,  8902,  8925],\n",
       "       [ 9514,  9519,  9530],\n",
       "       [ 9834,  9857,  9874],\n",
       "       [ 9874,  9878,  9890],\n",
       "       [10130, 10135, 10165],\n",
       "       [10165, 10166, 10168],\n",
       "       [10497, 10530, 10566],\n",
       "       [10908, 10931, 10945],\n",
       "       [10945, 10948, 10988],\n",
       "       [11211, 11235, 11282],\n",
       "       [11449, 11475, 11498],\n",
       "       [11804, 11820, 11862],\n",
       "       [12088, 12107, 12125],\n",
       "       [12125, 12126, 12146],\n",
       "       [12630, 12650, 12673],\n",
       "       [12723, 12740, 12780],\n",
       "       [12802, 12812, 12833],\n",
       "       [13398, 13416, 13464],\n",
       "       [13485, 13513, 13527],\n",
       "       [13928, 13954, 13992],\n",
       "       [14119, 14135, 14159],\n",
       "       [14353, 14363, 14387],\n",
       "       [14872, 14891, 14899],\n",
       "       [15109, 15121, 15170],\n",
       "       [15396, 15418, 15432],\n",
       "       [15725, 15737, 15740],\n",
       "       [15740, 15751, 15764],\n",
       "       [15764, 15772, 15788],\n",
       "       [15833, 15860, 15878],\n",
       "       [15878, 15890, 15908],\n",
       "       [16093, 16121, 16138],\n",
       "       [16138, 16149, 16181],\n",
       "       [16414, 16427, 16437],\n",
       "       [17274, 17294, 17344],\n",
       "       [17829, 17833, 17859],\n",
       "       [17880, 17896, 17918],\n",
       "       [18292, 18313, 18362],\n",
       "       [18711, 18729, 18765],\n",
       "       [19260, 19285, 19319],\n",
       "       [19385, 19393, 19426],\n",
       "       [19972, 19999, 20038],\n",
       "       [20172, 20194, 20248],\n",
       "       [20641, 20656, 20667],\n",
       "       [20990, 21017, 21069],\n",
       "       [21187, 21215, 21273],\n",
       "       [21407, 21425, 21436],\n",
       "       [21436, 21437, 21448],\n",
       "       [21448, 21460, 21474],\n",
       "       [21474, 21478, 21483],\n",
       "       [21844, 21868, 21903],\n",
       "       [22117, 22147, 22182],\n",
       "       [22684, 22705, 22733],\n",
       "       [22911, 22941, 22988],\n",
       "       [23188, 23213, 23251],\n",
       "       [23473, 23496, 23518],\n",
       "       [23518, 23519, 23539],\n",
       "       [23878, 23896, 23928],\n",
       "       [24174, 24207, 24216],\n",
       "       [24542, 24558, 24576],\n",
       "       [25144, 25172, 25202],\n",
       "       [25401, 25428, 25460],\n",
       "       [25726, 25751, 25780],\n",
       "       [26150, 26176, 26236],\n",
       "       [26903, 26929, 26950],\n",
       "       [27445, 27463, 27503],\n",
       "       [27731, 27760, 27801],\n",
       "       [28307, 28342, 28378],\n",
       "       [28641, 28664, 28694],\n",
       "       [29276, 29292, 29323],\n",
       "       [29457, 29482, 29516],\n",
       "       [30181, 30196, 30211],\n",
       "       [30569, 30594, 30629],\n",
       "       [30676, 30693, 30703],\n",
       "       [30874, 30894, 30943],\n",
       "       [31002, 31021, 31046],\n",
       "       [31757, 31779, 31831],\n",
       "       [32241, 32266, 32315],\n",
       "       [33138, 33159, 33192],\n",
       "       [33272, 33288, 33293],\n",
       "       [33293, 33294, 33301],\n",
       "       [33763, 33775, 33823],\n",
       "       [34024, 34050, 34069],\n",
       "       [34532, 34538, 34557],\n",
       "       [35063, 35089, 35120],\n",
       "       [35194, 35222, 35252],\n",
       "       [35689, 35701, 35722],\n",
       "       [36688, 36706, 36722],\n",
       "       [36852, 36865, 36866],\n",
       "       [36866, 36867, 36878],\n",
       "       [36882, 36884, 36898],\n",
       "       [37369, 37391, 37410],\n",
       "       [37440, 37464, 37467],\n",
       "       [37921, 37923, 37962],\n",
       "       [38151, 38162, 38164],\n",
       "       [38576, 38583, 38593],\n",
       "       [38856, 38880, 38909],\n",
       "       [39387, 39404, 39414],\n",
       "       [40250, 40276, 40292],\n",
       "       [40292, 40294, 40312],\n",
       "       [40876, 40889, 40910],\n",
       "       [41190, 41205, 41252],\n",
       "       [41823, 41851, 41886],\n",
       "       [42057, 42088, 42102],\n",
       "       [42229, 42245, 42246],\n",
       "       [42246, 42247, 42265],\n",
       "       [42265, 42280, 42293],\n",
       "       [42753, 42770, 42786],\n",
       "       [43358, 43378, 43391],\n",
       "       [43569, 43596, 43639],\n",
       "       [43928, 43951, 43987],\n",
       "       [44610, 44638, 44686],\n",
       "       [44909, 44924, 44950],\n",
       "       [45252, 45268, 45281],\n",
       "       [45281, 45299, 45309],\n",
       "       [45431, 45453, 45503],\n",
       "       [45830, 45859, 45921],\n",
       "       [46135, 46164, 46194],\n",
       "       [46592, 46613, 46661],\n",
       "       [47100, 47129, 47167],\n",
       "       [47489, 47516, 47532],\n",
       "       [47532, 47539, 47549],\n",
       "       [47621, 47632, 47677],\n",
       "       [47927, 47946, 47968],\n",
       "       [47968, 47980, 48010],\n",
       "       [48212, 48229, 48237],\n",
       "       [48814, 48819, 48830],\n",
       "       [49422, 49449, 49478],\n",
       "       [49736, 49752, 49769],\n",
       "       [50363, 50377, 50390],\n",
       "       [50539, 50552, 50553],\n",
       "       [51236, 51249, 51264],\n",
       "       [51791, 51817, 51847],\n",
       "       [52292, 52295, 52308],\n",
       "       [52560, 52589, 52615],\n",
       "       [52627, 52638, 52639],\n",
       "       [52639, 52641, 52647],\n",
       "       [52909, 52938, 52957],\n",
       "       [52957, 52959, 53003],\n",
       "       [53496, 53510, 53516],\n",
       "       [53553, 53577, 53603],\n",
       "       [53628, 53644, 53664],\n",
       "       [53685, 53707, 53729],\n",
       "       [54101, 54118, 54134],\n",
       "       [54273, 54297, 54307],\n",
       "       [54854, 54861, 54862],\n",
       "       [54862, 54873, 54883],\n",
       "       [54883, 54884, 54903],\n",
       "       [55261, 55291, 55326],\n",
       "       [55561, 55591, 55634],\n",
       "       [55960, 55973, 55981],\n",
       "       [55981, 55996, 56029],\n",
       "       [56135, 56141, 56159],\n",
       "       [56698, 56706, 56724],\n",
       "       [56735, 56762, 56782],\n",
       "       [56863, 56890, 56941],\n",
       "       [57243, 57254, 57286],\n",
       "       [57932, 57941, 57956],\n",
       "       [57985, 58028, 58031],\n",
       "       [58031, 58032, 58047],\n",
       "       [58047, 58059, 58087],\n",
       "       [58436, 58453, 58468],\n",
       "       [59334, 59355, 59374],\n",
       "       [59707, 59732, 59749],\n",
       "       [60203, 60214, 60225],\n",
       "       [60481, 60515, 60561],\n",
       "       [60890, 60901, 60919],\n",
       "       [61509, 61538, 61558],\n",
       "       [62484, 62509, 62540],\n",
       "       [62984, 62996, 63051],\n",
       "       [63194, 63219, 63266],\n",
       "       [63266, 63269, 63284],\n",
       "       [63482, 63484, 63490],\n",
       "       [63490, 63492, 63493],\n",
       "       [63671, 63686, 63721],\n",
       "       [64131, 64154, 64199],\n",
       "       [64336, 64350, 64379],\n",
       "       [64790, 64805, 64840],\n",
       "       [65183, 65197, 65198],\n",
       "       [65584, 65600, 65628],\n",
       "       [65668, 65680, 65686],\n",
       "       [65686, 65687, 65705],\n",
       "       [65965, 65991, 66024],\n",
       "       [66205, 66224, 66255],\n",
       "       [66646, 66670, 66682],\n",
       "       [66682, 66688, 66697],\n",
       "       [66697, 66706, 66729],\n",
       "       [66867, 66895, 66912],\n",
       "       [66912, 66922, 66945],\n",
       "       [67886, 67902, 67938],\n",
       "       [68192, 68222, 68238],\n",
       "       [68538, 68563, 68596],\n",
       "       [68827, 68852, 68875],\n",
       "       [69126, 69144, 69167],\n",
       "       [69366, 69392, 69436],\n",
       "       [69668, 69692, 69702],\n",
       "       [69702, 69705, 69706],\n",
       "       [69706, 69707, 69717],\n",
       "       [69983, 70001, 70017],\n",
       "       [70242, 70271, 70306],\n",
       "       [70438, 70452, 70469],\n",
       "       [70884, 70893, 70908],\n",
       "       [71021, 71049, 71066],\n",
       "       [71066, 71070, 71081],\n",
       "       [71562, 71598, 71641]], dtype=int64)"
      ]
     },
     "execution_count": 117,
     "metadata": {},
     "output_type": "execute_result"
    }
   ],
   "source": [
    "findSupInts(motion)"
   ]
  },
  {
   "cell_type": "code",
   "execution_count": 12,
   "metadata": {
    "collapsed": false
   },
   "outputs": [
    {
     "data": {
      "text/plain": [
       "(array([    8,    13,    15, ..., 71668, 71670, 71672], dtype=int64),)"
      ]
     },
     "execution_count": 12,
     "metadata": {},
     "output_type": "execute_result"
    }
   ],
   "source": [
    "argrelmin(motion.ball_x.values)"
   ]
  },
  {
   "cell_type": "code",
   "execution_count": 23,
   "metadata": {
    "collapsed": false
   },
   "outputs": [],
   "source": [
    "z_min=argrelmin(motion.ball_z.values)[0]\n",
    "z_min=z_min[np.in1d(z_min,np.where(motion.ball_z<10)[0])]\n",
    "z_max=argrelmax(motion.ball_z.values)[0]\n",
    "z_max=z_max[np.in1d(z_max,np.where(motion.ball_z>=10)[0])]"
   ]
  },
  {
   "cell_type": "code",
   "execution_count": 41,
   "metadata": {
    "collapsed": false
   },
   "outputs": [],
   "source": [
    "shot_ints=np.vstack((boundInf(z_min,z_max,75),boundSup(z_max,z_min,75))).T"
   ]
  },
  {
   "cell_type": "code",
   "execution_count": 84,
   "metadata": {
    "collapsed": false
   },
   "outputs": [],
   "source": [
    "shot_ints2=np.vstack((shot_ints[:,0],shot_ints[:,1],boundSup(z_min,shot_ints[:,1],75))).T"
   ]
  },
  {
   "cell_type": "code",
   "execution_count": 63,
   "metadata": {
    "collapsed": false
   },
   "outputs": [],
   "source": [
    "lhoop=np.linalg.norm(motion.iloc[:,4:6].values-np.array([5,25]),axis=1)\n",
    "rhoop=np.linalg.norm(motion.iloc[:,4:6].values-np.array([89,25]),axis=1)"
   ]
  },
  {
   "cell_type": "code",
   "execution_count": 91,
   "metadata": {
    "collapsed": false
   },
   "outputs": [],
   "source": [
    "shot_z_mins=np.array([np.min(np.hstack((lhoop[np.arange(s[0],s[2])],rhoop[np.arange(s[0],s[2])]))) for s in shot_ints2])"
   ]
  },
  {
   "cell_type": "code",
   "execution_count": 110,
   "metadata": {
    "collapsed": false
   },
   "outputs": [],
   "source": [
    "shot_ints3=shot_ints2[np.where(shot_z_mins<=2)[0],:]"
   ]
  },
  {
   "cell_type": "code",
   "execution_count": 111,
   "metadata": {
    "collapsed": false
   },
   "outputs": [],
   "source": [
    "shot_index=np.hstack([np.arange(s[0],s[2]) for s in shot_ints3])"
   ]
  },
  {
   "cell_type": "code",
   "execution_count": 115,
   "metadata": {
    "collapsed": false
   },
   "outputs": [
    {
     "data": {
      "text/plain": [
       "[]"
      ]
     },
     "execution_count": 115,
     "metadata": {},
     "output_type": "execute_result"
    },
    {
     "data": {
      "image/png": "[encoded data removed]",
      "text/plain": [
       "<matplotlib.figure.Figure at 0xc2072e8>"
      ]
     },
     "metadata": {},
     "output_type": "display_data"
    }
   ],
   "source": [
    "plt.scatter(x=motion.ball_x[shot_index],y=-motion.ball_y[shot_index],s=10)\n",
    "plt.plot()"
   ]
  },
  {
   "cell_type": "code",
   "execution_count": 34,
   "metadata": {
    "collapsed": false
   },
   "outputs": [
    {
     "data": {
      "image/png": "[encoded data removed]",
      "text/plain": [
       "<matplotlib.figure.Figure at 0xa925400>"
      ]
     },
     "metadata": {},
     "output_type": "display_data"
    }
   ],
   "source": [
    "plt.plot(np.array([len(boundInf(z_min,z_max,i)) for i in range(25,125)]))\n",
    "plt.title(\"There exists a finite, constant set of potential shots.\")\n",
    "plt.show()"
   ]
  }
 ],
 "metadata": {
  "kernelspec": {
   "display_name": "Python 3",
   "language": "python",
   "name": "python3"
  },
  "language_info": {
   "codemirror_mode": {
    "name": "ipython",
    "version": 3
   },
   "file_extension": ".py",
   "mimetype": "text/x-python",
   "name": "python",
   "nbconvert_exporter": "python",
   "pygments_lexer": "ipython3",
   "version": "3.5.2"
  }
 },
 "nbformat": 4,
 "nbformat_minor": 0
}
